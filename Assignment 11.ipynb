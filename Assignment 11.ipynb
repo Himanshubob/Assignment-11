{
 "cells": [
  {
   "cell_type": "markdown",
   "id": "e0f79984",
   "metadata": {},
   "source": [
    "# Q1. Which function is used to open a file? What are the different modes of opening a file? Explain each mode of file opening."
   ]
  },
  {
   "cell_type": "markdown",
   "id": "e1dba4c8",
   "metadata": {},
   "source": [
    " ans ...f=open(\"name.text\" \"w\")\n",
    "     and =with open (\"name.text\",\"w\")"
   ]
  },
  {
   "cell_type": "markdown",
   "id": "e8350d6d",
   "metadata": {},
   "source": [
    "# Q2. Why close() function is used? Why is it important to close a file?"
   ]
  },
  {
   "cell_type": "markdown",
   "id": "62d2f161",
   "metadata": {},
   "source": [
    "ans.. used to close() file closed  \n",
    ". not used to closed () then come to the error"
   ]
  },
  {
   "cell_type": "markdown",
   "id": "ee129357",
   "metadata": {},
   "source": [
    "# Q3. Write a python program to create a text file. Write ‘I want to become a Data Scientist’ in that file. Then close the file. Open this file and read the content of the file.  "
   ]
  },
  {
   "cell_type": "code",
   "execution_count": 2,
   "id": "0d6afb04",
   "metadata": {},
   "outputs": [],
   "source": [
    "f=open(\"ram.text\",'w')"
   ]
  },
  {
   "cell_type": "code",
   "execution_count": 3,
   "id": "829daef8",
   "metadata": {},
   "outputs": [
    {
     "data": {
      "text/plain": [
       "33"
      ]
     },
     "execution_count": 3,
     "metadata": {},
     "output_type": "execute_result"
    }
   ],
   "source": [
    "f.write(\"I want to become a Data Scientist\")"
   ]
  },
  {
   "cell_type": "code",
   "execution_count": 4,
   "id": "3eb9b89a",
   "metadata": {},
   "outputs": [],
   "source": [
    "f.close()"
   ]
  },
  {
   "cell_type": "code",
   "execution_count": 5,
   "id": "aaac555d",
   "metadata": {},
   "outputs": [],
   "source": [
    "f=open(\"ram.text\",\"r\")"
   ]
  },
  {
   "cell_type": "code",
   "execution_count": 6,
   "id": "25a69dd4",
   "metadata": {},
   "outputs": [
    {
     "data": {
      "text/plain": [
       "'I want to become a Data Scientist'"
      ]
     },
     "execution_count": 6,
     "metadata": {},
     "output_type": "execute_result"
    }
   ],
   "source": [
    "f.read()"
   ]
  },
  {
   "cell_type": "markdown",
   "id": "8fb101c6",
   "metadata": {},
   "source": [
    "# Q4.. Explain the following with python code: read(), readline() and readlines()."
   ]
  },
  {
   "cell_type": "markdown",
   "id": "9c9c4641",
   "metadata": {},
   "source": [
    "# read ()= used to file reading \n",
    "# readline()= used  to file only 1 line reading \n",
    "# readlines()= used to file all lines reading line by line"
   ]
  },
  {
   "cell_type": "code",
   "execution_count": 7,
   "id": "47bf9544",
   "metadata": {},
   "outputs": [],
   "source": [
    "f=open(\"H.text\",\"w\")"
   ]
  },
  {
   "cell_type": "code",
   "execution_count": 8,
   "id": "9c6ff26f",
   "metadata": {},
   "outputs": [
    {
     "data": {
      "text/plain": [
       "360"
      ]
     },
     "execution_count": 8,
     "metadata": {},
     "output_type": "execute_result"
    }
   ],
   "source": [
    "f.write(\"Web scraping has become essential for individuals and businesses to extract valuable insights from online sources. There are numerous techniques and tools available for data collection. Each web scraping technique has its strengths and limitations. Therefore, choosing a web scraping approach that is appropriate for your data collection project is challenging\")"
   ]
  },
  {
   "cell_type": "code",
   "execution_count": 9,
   "id": "5491e729",
   "metadata": {},
   "outputs": [],
   "source": [
    "f.close()"
   ]
  },
  {
   "cell_type": "code",
   "execution_count": 10,
   "id": "77187227",
   "metadata": {},
   "outputs": [],
   "source": [
    "f=open(\"H.text\",\"r\")"
   ]
  },
  {
   "cell_type": "code",
   "execution_count": 11,
   "id": "9b80f5a1",
   "metadata": {},
   "outputs": [
    {
     "data": {
      "text/plain": [
       "'Web scraping has become essential for individuals and businesses to extract valuable insights from online sources. There are numerous techniques and tools available for data collection. Each web scraping technique has its strengths and limitations. Therefore, choosing a web scraping approach that is appropriate for your data collection project is challenging'"
      ]
     },
     "execution_count": 11,
     "metadata": {},
     "output_type": "execute_result"
    }
   ],
   "source": [
    "f.read()"
   ]
  },
  {
   "cell_type": "code",
   "execution_count": 12,
   "id": "1a0d0317",
   "metadata": {},
   "outputs": [
    {
     "data": {
      "text/plain": [
       "''"
      ]
     },
     "execution_count": 12,
     "metadata": {},
     "output_type": "execute_result"
    }
   ],
   "source": [
    "f.readline()"
   ]
  },
  {
   "cell_type": "code",
   "execution_count": 13,
   "id": "697f4d0d",
   "metadata": {},
   "outputs": [
    {
     "data": {
      "text/plain": [
       "[]"
      ]
     },
     "execution_count": 13,
     "metadata": {},
     "output_type": "execute_result"
    }
   ],
   "source": [
    "f.readlines()"
   ]
  },
  {
   "cell_type": "markdown",
   "id": "56ba1d4a",
   "metadata": {},
   "source": [
    "# Q5. Explain why with statement is used with open(). What is the advantage of using with statement and open() together?"
   ]
  },
  {
   "cell_type": "markdown",
   "id": "9e51544c",
   "metadata": {},
   "source": [
    "# ans.. open statement is used to open fille then read , write etc."
   ]
  },
  {
   "cell_type": "markdown",
   "id": "78afb224",
   "metadata": {},
   "source": [
    "# Q6... Explain the write() and writelines() functions. Give a suitable example."
   ]
  },
  {
   "cell_type": "markdown",
   "id": "fdc78dc7",
   "metadata": {},
   "source": [
    "# write() used the writing of the file  and writelines use the line by line"
   ]
  },
  {
   "cell_type": "code",
   "execution_count": 14,
   "id": "9877db76",
   "metadata": {},
   "outputs": [],
   "source": [
    "f=open(\"D.text\",\"w\")\n"
   ]
  },
  {
   "cell_type": "code",
   "execution_count": 15,
   "id": "e4998cb7",
   "metadata": {},
   "outputs": [
    {
     "data": {
      "text/plain": [
       "21"
      ]
     },
     "execution_count": 15,
     "metadata": {},
     "output_type": "execute_result"
    }
   ],
   "source": [
    "f.write(\"i am a studen of iit \")"
   ]
  },
  {
   "cell_type": "code",
   "execution_count": 16,
   "id": "4dff8843",
   "metadata": {},
   "outputs": [],
   "source": [
    "f.writelines(\"i am good boy . i am a student\")"
   ]
  },
  {
   "cell_type": "code",
   "execution_count": 17,
   "id": "35094e89",
   "metadata": {},
   "outputs": [],
   "source": [
    "f.close()"
   ]
  },
  {
   "cell_type": "code",
   "execution_count": null,
   "id": "39ca6f08",
   "metadata": {},
   "outputs": [],
   "source": []
  }
 ],
 "metadata": {
  "kernelspec": {
   "display_name": "Python 3 (ipykernel)",
   "language": "python",
   "name": "python3"
  },
  "language_info": {
   "codemirror_mode": {
    "name": "ipython",
    "version": 3
   },
   "file_extension": ".py",
   "mimetype": "text/x-python",
   "name": "python",
   "nbconvert_exporter": "python",
   "pygments_lexer": "ipython3",
   "version": "3.10.9"
  }
 },
 "nbformat": 4,
 "nbformat_minor": 5
}
